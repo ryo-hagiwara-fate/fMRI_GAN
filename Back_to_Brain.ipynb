{
 "cells": [
  {
   "cell_type": "code",
   "execution_count": 1,
   "metadata": {},
   "outputs": [],
   "source": [
    "import math\n",
    "import numpy as np\n",
    "import scipy.io as sio\n",
    "import os\n",
    "import tqdm\n",
    "from numpy import linalg as LA\n",
    "import pickle\n",
    "import time\n",
    "import torch\n",
    "from statistics import mean\n",
    "import scipy.io as sio"
   ]
  },
  {
   "cell_type": "code",
   "execution_count": 4,
   "metadata": {},
   "outputs": [],
   "source": [
    "def data_to_vector(data_for_trial, L_mean_29k, L_std_29k, R_mean_29k, R_std_29k, factor=(2/1.65)):\n",
    "    \n",
    "    L_Icoint_to_value = {}\n",
    "    R_Icoint_to_value = {}\n",
    "    \n",
    "    \n",
    "    \n",
    "    for i in range(40962):\n",
    "    \n",
    "        list_of_Euclideans = Icoint_to_Euclideans[i]\n",
    "    \n",
    "        L_val_list = []\n",
    "        R_val_list = []\n",
    "    \n",
    "        for j in range(len(list_of_Euclideans)):\n",
    "\n",
    "            x,y = list_of_Euclideans[j]\n",
    "\n",
    "            L_val_list.append(data_for_trial[x][y].item())\n",
    "\n",
    "            R_val_list.append(data_for_trial[x][y+131].item())\n",
    "\n",
    "        L_Icoint_to_value[i] = mean(L_val_list) * factor\n",
    "        R_Icoint_to_value[i] = mean(R_val_list) * factor\n",
    "    \n",
    "    \n",
    "    \n",
    "    L_fake_data = np.zeros(29696)\n",
    "\n",
    "    R_fake_data = np.zeros(29716)\n",
    "\n",
    "    for i in range(len(L_fake_data)):\n",
    "    \n",
    "        (Ldis0, Lnum0), (Ldis1, Lnum1), (Ldis2, Lnum2) = L_int_to_ico_three[i]\n",
    "    \n",
    "        Ltotal = Ldis0+Ldis1+Ldis2\n",
    "    \n",
    "        L_fake_data[i]=(Ldis0*L_Icoint_to_value[Lnum2]+Ldis1*L_Icoint_to_value[Lnum1]+Ldis2*L_Icoint_to_value[Lnum0])/Ltotal   \n",
    "      \n",
    "    \n",
    "    \n",
    "    for i in range(len(R_fake_data)):\n",
    "    \n",
    "        (Rdis0, Rnum0), (Rdis1, Rnum1), (Rdis2, Rnum2) = R_int_to_ico_three[i]\n",
    "    \n",
    "        Rtotal = Rdis0+Rdis1+Rdis2\n",
    "    \n",
    "        R_fake_data[i]=(Rdis0*R_Icoint_to_value[Rnum2]+Rdis1*R_Icoint_to_value[Rnum1]+Rdis2*R_Icoint_to_value[Rnum0])/Rtotal   \n",
    "                \n",
    "            \n",
    "    #L_fake_data = L_fake_data*L_std_29k.reshape((len(L_std_29k)))+L_mean_29k.reshape((len(L_mean_29k)))\n",
    "    \n",
    "    #R_fake_data = R_fake_data*R_std_29k.reshape((len(R_std_29k)))+R_mean_29k.reshape((len(R_mean_29k)))\n",
    "    \n",
    "    LR_fake_data = np.concatenate([L_fake_data, R_fake_data])\n",
    "    \n",
    "    return LR_fake_data"
   ]
  },
  {
   "cell_type": "code",
   "execution_count": 5,
   "metadata": {},
   "outputs": [],
   "source": [
    "# make a dict that corresponds a coordinate in the atlas to that of an icosahedron\n",
    "\n",
    "phi = (1+ math.sqrt(5))/2\n",
    "scale = 100 / math.sqrt(1+phi**2)\n",
    "atlas_to_coordinate = {}\n",
    "\n",
    "atlas_to_coordinate[(0,0,0)] = scale * np.array([-1,0,phi])\n",
    "atlas_to_coordinate[(0,64,0)] = scale * np.array([-phi, -1,0])\n",
    "atlas_to_coordinate[(0,128,0)] = scale * np.array([-1,0,-phi])\n",
    "atlas_to_coordinate[(0,0,64)] = scale * np.array([1,0,phi])\n",
    "atlas_to_coordinate[(0,64,64)] = scale * np.array([0,-phi,1])\n",
    "atlas_to_coordinate[(0,128,64)] = scale * np.array([0,-phi,-1])\n",
    "\n",
    "atlas_to_coordinate[(1,0,0)] = scale * np.array([0,phi,1])\n",
    "atlas_to_coordinate[(1,64,0)] = scale * np.array([-phi,1,0])\n",
    "atlas_to_coordinate[(1,128,0)] = scale * np.array([-1,0,-phi])\n",
    "atlas_to_coordinate[(1,0,64)] = scale * np.array([1,0,phi])\n",
    "atlas_to_coordinate[(1,64,64)] = scale * np.array([-1,0,phi])\n",
    "atlas_to_coordinate[(1,128,64)] = scale * np.array([-phi, -1,0])\n",
    "\n",
    "atlas_to_coordinate[(2,0,0)] = scale * np.array([phi,1,0])\n",
    "atlas_to_coordinate[(2,64,0)] = scale * np.array([0,phi,-1])\n",
    "atlas_to_coordinate[(2,128,0)] = scale * np.array([-1,0,-phi])\n",
    "atlas_to_coordinate[(2,0,64)] = scale * np.array([1,0,phi])\n",
    "atlas_to_coordinate[(2,64,64)] = scale * np.array([0,phi,1])\n",
    "atlas_to_coordinate[(2,128,64)] = scale * np.array([-phi,1,0])\n",
    "\n",
    "atlas_to_coordinate[(3,0,0)] = scale * np.array([phi,-1,0])\n",
    "atlas_to_coordinate[(3,64,0)] = scale * np.array([1,0,-phi])\n",
    "atlas_to_coordinate[(3,128,0)] = scale * np.array([-1,0,-phi])\n",
    "atlas_to_coordinate[(3,0,64)] = scale * np.array([1,0,phi])\n",
    "atlas_to_coordinate[(3,64,64)] = scale * np.array([phi,1,0])\n",
    "atlas_to_coordinate[(3,128,64)] = scale * np.array([0,phi,-1])\n",
    "\n",
    "atlas_to_coordinate[(4,0,0)] = scale * np.array([0,-phi,1])\n",
    "atlas_to_coordinate[(4,64,0)] = scale * np.array([0,-phi,-1])\n",
    "atlas_to_coordinate[(4,128,0)] = scale * np.array([-1,0,-phi])\n",
    "atlas_to_coordinate[(4,0,64)] = scale * np.array([1,0,phi])\n",
    "atlas_to_coordinate[(4,64,64)] = scale * np.array([phi,-1,0])\n",
    "atlas_to_coordinate[(4,128,64)] = scale * np.array([1,0,-phi])"
   ]
  },
  {
   "cell_type": "code",
   "execution_count": 6,
   "metadata": {},
   "outputs": [],
   "source": [
    "# make a dict of triangles; the key is the depth of the icosahedron\n",
    "\n",
    "triangles = {}\n",
    "\n",
    "triangles[0] = []\n",
    "\n",
    "triangles[0].append(((0,0,0),(0,0,64),(0,64,64)))\n",
    "triangles[0].append(((0,0,0),(0,64,0),(0,64,64)))\n",
    "triangles[0].append(((0,128,64),(0,64,0),(0,64,64)))\n",
    "triangles[0].append(((0,64,0),(0,128,0),(0,128,64)))\n",
    "\n",
    "triangles[0].append(((1,0,0),(1,0,64),(1,64,64)))\n",
    "triangles[0].append(((1,0,0),(1,64,0),(1,64,64)))\n",
    "triangles[0].append(((1,128,64),(1,64,0),(1,64,64)))\n",
    "triangles[0].append(((1,64,0),(1,128,0),(1,128,64)))\n",
    "\n",
    "triangles[0].append(((2,0,0),(2,0,64),(2,64,64)))\n",
    "triangles[0].append(((2,0,0),(2,64,0),(2,64,64)))\n",
    "triangles[0].append(((2,128,64),(2,64,0),(2,64,64)))\n",
    "triangles[0].append(((2,64,0),(2,128,0),(2,128,64)))\n",
    "\n",
    "triangles[0].append(((3,0,0),(3,0,64),(3,64,64)))\n",
    "triangles[0].append(((3,0,0),(3,64,0),(3,64,64)))\n",
    "triangles[0].append(((3,128,64),(3,64,0),(3,64,64)))\n",
    "triangles[0].append(((3,64,0),(3,128,0),(3,128,64)))\n",
    "\n",
    "triangles[0].append(((4,0,0),(4,0,64),(4,64,64)))\n",
    "triangles[0].append(((4,0,0),(4,64,0),(4,64,64)))\n",
    "triangles[0].append(((4,128,64),(4,64,0),(4,64,64)))\n",
    "triangles[0].append(((4,64,0),(4,128,0),(4,128,64)))"
   ]
  },
  {
   "cell_type": "code",
   "execution_count": 7,
   "metadata": {},
   "outputs": [],
   "source": [
    "# make new triangles while storing data into make_triangles and atlas_to_coordinate\n",
    "\n",
    "def make_triangles(coord0, coord1, coord2, depth):\n",
    "    \n",
    "    atlas_to_coordinate[(coord0[0], int((coord1[1]+coord0[1])/2), int((coord1[2]+coord0[2])/2))] = (atlas_to_coordinate[coord0]+atlas_to_coordinate[coord1])/2\n",
    "                         \n",
    "    atlas_to_coordinate[(coord0[0], int((coord2[1]+coord1[1])/2), int((coord2[2]+coord1[2])/2))] = (atlas_to_coordinate[coord2]+atlas_to_coordinate[coord1])/2\n",
    "                         \n",
    "    atlas_to_coordinate[(coord0[0], int((coord2[1]+coord0[1])/2), int((coord2[2]+coord0[2])/2))] = (atlas_to_coordinate[coord0]+atlas_to_coordinate[coord2])/2\n",
    "    \n",
    "    triangles[depth].append((\n",
    "        coord0, \n",
    "        (coord0[0], int((coord0[1]+coord1[1])/2), int((coord0[2]+coord1[2])/2)), \n",
    "        (coord0[0], int((coord2[1]+coord0[1])/2), int((coord2[2]+coord0[2])/2))\n",
    "    ))     \n",
    "    \n",
    "    triangles[depth].append((\n",
    "        coord1, \n",
    "        (coord0[0], int((coord0[1]+coord1[1])/2), int((coord0[2]+coord1[2])/2)), \n",
    "        (coord0[0], int((coord2[1]+coord1[1])/2), int((coord2[2]+coord1[2])/2))\n",
    "    ))   \n",
    "    \n",
    "    triangles[depth].append((\n",
    "        coord2, \n",
    "        (coord0[0], int((coord2[1]+coord1[1])/2), int((coord2[2]+coord1[2])/2)), \n",
    "        (coord0[0], int((coord2[1]+coord0[1])/2), int((coord2[2]+coord0[2])/2))\n",
    "    ))   \n",
    "    \n",
    "    triangles[depth].append((\n",
    "        (coord0[0], int((coord2[1]+coord1[1])/2), int((coord2[2]+coord1[2])/2)), \n",
    "        (coord0[0], int((coord0[1]+coord1[1])/2), int((coord0[2]+coord1[2])/2)), \n",
    "        (coord0[0], int((coord2[1]+coord0[1])/2), int((coord2[2]+coord0[2])/2))\n",
    "    ))"
   ]
  },
  {
   "cell_type": "code",
   "execution_count": 8,
   "metadata": {},
   "outputs": [],
   "source": [
    "# make three new triangles for each triangle\n",
    "\n",
    "def dig_deeper(current_depth):\n",
    "    \n",
    "    triangles[current_depth + 1] = []\n",
    "    \n",
    "    for triangle in triangles[current_depth]:\n",
    "        make_triangles(triangle[0], triangle[1], triangle[2], current_depth + 1)\n",
    "# For our purpose, we want to do this for six times\n",
    "\n",
    "for i in range(6):\n",
    "    dig_deeper(i)"
   ]
  },
  {
   "cell_type": "code",
   "execution_count": 9,
   "metadata": {},
   "outputs": [],
   "source": [
    "set_of_coordinates = set()\n",
    "\n",
    "for value in atlas_to_coordinate.values():\n",
    "    \n",
    "    set_of_coordinates.add(tuple(value))"
   ]
  },
  {
   "cell_type": "code",
   "execution_count": 10,
   "metadata": {},
   "outputs": [],
   "source": [
    "coordinate_to_int = {}\n",
    "\n",
    "for i, coordinate in enumerate(set_of_coordinates):\n",
    "    \n",
    "    coordinate_to_int[coordinate] = i\n",
    "    \n",
    "int_to_coordinate = dict(map(reversed, coordinate_to_int.items()))"
   ]
  },
  {
   "cell_type": "code",
   "execution_count": 11,
   "metadata": {},
   "outputs": [],
   "source": [
    "# make a dict mapping euclidean coord to atlas coord\n",
    "\n",
    "Euclidean_to_atlas = {}\n",
    "\n",
    "for j in range(130):\n",
    "    for i in range(66):\n",
    "        \n",
    "        if j == 0 or i == 65:\n",
    "            \n",
    "            Euclidean_to_atlas[(i,j)] = \"zero\"\n",
    "        else:\n",
    "            Euclidean_to_atlas[(i,j)] = (0, j-1, 64-i)\n",
    "        \n",
    "\n",
    "for j in range(130):\n",
    "    for i in range(66,132):\n",
    "        \n",
    "        if j == 0 or i == 131:\n",
    "            Euclidean_to_atlas[(i,j)] = \"zero\"\n",
    "            \n",
    "        else:\n",
    "            Euclidean_to_atlas[(i,j)] = (1, j-1, 130-i)\n",
    "        \n",
    "for j in range(130):\n",
    "    for i in range(132, 198):\n",
    "        \n",
    "        if j == 0 or i == 197:\n",
    "            Euclidean_to_atlas[(i,j)] = \"zero\"\n",
    "            \n",
    "        else:\n",
    "            Euclidean_to_atlas[(i,j)] = (2, j-1, 196-i)\n",
    "        \n",
    "        \n",
    "for j in range(130):\n",
    "    for i in range(198, 264):\n",
    "        \n",
    "        if j == 0 or i == 263:\n",
    "            Euclidean_to_atlas[(i,j)] = \"zero\"\n",
    "            \n",
    "        else:\n",
    "            Euclidean_to_atlas[(i,j)] = (3, j-1, 262-i)\n",
    "        \n",
    "        \n",
    "for j in range(130):\n",
    "    for i in range(264, 330):\n",
    "        \n",
    "        if j == 0 or i == 329:\n",
    "            Euclidean_to_atlas[(i,j)] = \"zero\"\n",
    "            \n",
    "        else:\n",
    "            Euclidean_to_atlas[(i,j)] = (4, j-1, 328-i)\n",
    "        "
   ]
  },
  {
   "cell_type": "code",
   "execution_count": 12,
   "metadata": {},
   "outputs": [],
   "source": [
    "Icoint_to_Euclideans = {}\n",
    "for i in range(40962):\n",
    "    \n",
    "    Icoint_to_Euclideans[i] = []\n",
    "for i in range(330):\n",
    "        \n",
    "    for j in range(130):\n",
    "            \n",
    "        if Euclidean_to_atlas[(i,j)] != \"zero\":\n",
    "\n",
    "            x,y,z = atlas_to_coordinate[Euclidean_to_atlas[(i,j)]]\n",
    "            \n",
    "            coordinate = (x,y,z)\n",
    "            \n",
    "            Icoint = coordinate_to_int[coordinate]\n",
    "            \n",
    "            Icoint_to_Euclideans[Icoint].append((i,j))"
   ]
  },
  {
   "cell_type": "code",
   "execution_count": 13,
   "metadata": {},
   "outputs": [],
   "source": [
    "# coordinate of 32k L-sphere\n",
    "L_coord32k_sphere = sio.loadmat(\"data/Sphere_L_32k.mat\")[\"Lcoordinate\"]\n",
    "\n",
    "R_coord32k_sphere = sio.loadmat(\"data/Sphere_R_32k.mat\")[\"Rcoordinate\"]\n",
    "\n",
    "L_32k_to_29k = sio.loadmat(\"data/32k_to_29k.mat\")[\"tem5\"]\n",
    "R_32k_to_29k = sio.loadmat(\"data/R_32k_to_29k.mat\")[\"tem11\"]\n",
    "# only use 29k\n",
    "L_coord29k_sphere = L_coord32k_sphere[np.all(L_32k_to_29k == 1, axis = 1)]\n",
    "\n",
    "R_coord29k_sphere = R_coord32k_sphere[np.all(R_32k_to_29k == 1, axis = 1)]"
   ]
  },
  {
   "cell_type": "code",
   "execution_count": 22,
   "metadata": {},
   "outputs": [
    {
     "name": "stderr",
     "output_type": "stream",
     "text": [
      "100%|██████████| 29696/29696 [5:43:54<00:00,  1.44it/s]  \n"
     ]
    }
   ],
   "source": [
    "L_int_to_ico_three = {}\n",
    "R_int_to_ico_three = {}\n",
    "for i in tqdm.tqdm(range(len(L_coord29k_sphere))):\n",
    "    \n",
    "    \n",
    "    \n",
    "    coordinate = L_coord29k_sphere[i]\n",
    "    \n",
    "\n",
    "    L_min_three = []\n",
    "\n",
    "\n",
    "\n",
    "    for j in range(len(int_to_coordinate)):\n",
    "\n",
    "        # distance between Left coordinate and the icosahedron\n",
    "        distance = LA.norm(coordinate - int_to_coordinate[j])\n",
    "\n",
    "        if len(L_min_three) < 3:\n",
    "            L_min_three.append( (distance, j) )\n",
    "\n",
    "        else:\n",
    "\n",
    "            if max(L_min_three)[0] > distance:\n",
    "\n",
    "                L_min_three.remove(max(L_min_three))\n",
    "\n",
    "                L_min_three.append( (distance, j) )\n",
    "    \n",
    "    \n",
    "    L_min_three.sort()\n",
    "    \n",
    "    \n",
    "    \n",
    "    \n",
    "    \n",
    "    L_int_to_ico_three[i] = L_min_three"
   ]
  },
  {
   "cell_type": "code",
   "execution_count": 23,
   "metadata": {},
   "outputs": [
    {
     "name": "stderr",
     "output_type": "stream",
     "text": [
      "100%|██████████| 29716/29716 [5:47:55<00:00,  1.42it/s]  \n"
     ]
    }
   ],
   "source": [
    "for i in tqdm.tqdm(range(len(R_coord29k_sphere))):\n",
    "    \n",
    "    coordinate = R_coord29k_sphere[i]\n",
    "    \n",
    "\n",
    "    R_min_three = []\n",
    "\n",
    "\n",
    "\n",
    "    for j in range(len(int_to_coordinate)):\n",
    "\n",
    "        # distance between Left coordinate and the icosahedron\n",
    "        distance = LA.norm(coordinate - int_to_coordinate[j])\n",
    "\n",
    "        if len(R_min_three) < 3:\n",
    "            R_min_three.append( (distance, j) )\n",
    "\n",
    "        else:\n",
    "\n",
    "            if max(R_min_three)[0] > distance:\n",
    "\n",
    "                R_min_three.remove(max(R_min_three))\n",
    "\n",
    "                R_min_three.append( (distance, j) )\n",
    "    \n",
    "    \n",
    "    R_min_three.sort()\n",
    "    \n",
    "    \n",
    "    \n",
    "    \n",
    "    \n",
    "    R_int_to_ico_three[i] = R_min_three"
   ]
  },
  {
   "cell_type": "code",
   "execution_count": 24,
   "metadata": {},
   "outputs": [],
   "source": [
    "\"\"\"\n",
    "with open('data/L_int_to_ico_three.pickle', 'wb') as f:\n",
    "    pickle.dump(L_int_to_ico_three, f)\n",
    "with open('data/R_int_to_ico_three.pickle', 'wb') as f:\n",
    "    pickle.dump(R_int_to_ico_three, f)\n",
    "\"\"\""
   ]
  },
  {
   "cell_type": "code",
   "execution_count": 14,
   "metadata": {},
   "outputs": [],
   "source": [
    "with open('data/L_int_to_ico_three.pickle', 'rb') as f:\n",
    "    L_int_to_ico_three = pickle.load(f)\n",
    "\n",
    "with open('data/R_int_to_ico_three.pickle', 'rb') as f:\n",
    "    R_int_to_ico_three = pickle.load(f)"
   ]
  },
  {
   "cell_type": "code",
   "execution_count": 15,
   "metadata": {},
   "outputs": [],
   "source": [
    "import torch"
   ]
  },
  {
   "cell_type": "code",
   "execution_count": 16,
   "metadata": {},
   "outputs": [
    {
     "name": "stdout",
     "output_type": "stream",
     "text": [
      "(91282, 1200)\n"
     ]
    }
   ],
   "source": [
    "unprocessed_data = sio.loadmat(\"data/dtseries1200.mat\")[\"ata\"]\n",
    "\n",
    "print(unprocessed_data.shape)\n",
    "\n",
    "\n",
    "useful_data = np.delete(unprocessed_data, slice(64984,91282),0) \n",
    "\n",
    "useful_mean = useful_data.mean(axis=1,keepdims =True)\n",
    "\n",
    "useful_std = useful_data.std(axis=1,keepdims =True)\n",
    "\n",
    "L_32k_to_29k = sio.loadmat(\"data/32k_to_29k.mat\")[\"tem5\"]\n",
    "R_32k_to_29k = sio.loadmat(\"data/R_32k_to_29k.mat\")[\"tem11\"]\n",
    "\n",
    "L_mean_32k = np.delete(useful_mean, slice(32492,64984),0) \n",
    "L_std_32k = np.delete(useful_std, slice(32492,64984),0) \n",
    "R_mean_32k = np.delete(useful_mean, slice(0,32492),0) \n",
    "R_std_32k = np.delete(useful_std, slice(0,32492),0) \n",
    "# only use 29k\n",
    "L_mean_29k = L_mean_32k[np.all(L_32k_to_29k == 1, axis = 1)]\n",
    "L_std_29k = L_std_32k[np.all(L_32k_to_29k == 1, axis = 1)]\n",
    "\n",
    "R_mean_29k = R_mean_32k[np.all(R_32k_to_29k == 1, axis = 1)]\n",
    "R_std_29k = R_std_32k[np.all(R_32k_to_29k == 1, axis = 1)]"
   ]
  },
  {
   "cell_type": "code",
   "execution_count": 17,
   "metadata": {},
   "outputs": [
    {
     "data": {
      "text/plain": [
       "'\"\\nwith open(\\'Wasserstein_GAN/fake_data_wgan_9900.pickle\\',\\'rb\\')as f:\\n    fake=pickle.load(f)\\n'"
      ]
     },
     "execution_count": 17,
     "metadata": {},
     "output_type": "execute_result"
    }
   ],
   "source": [
    "\"\"\"\"\n",
    "with open('Wasserstein_GAN/fake_data_wgan_9900.pickle','rb')as f:\n",
    "    fake=pickle.load(f)\n",
    "\"\"\""
   ]
  },
  {
   "cell_type": "code",
   "execution_count": 156,
   "metadata": {},
   "outputs": [],
   "source": [
    "with open('Wasserstein_GAN/fake_data_wgan.pickle', 'rb') as f:\n",
    "    fake_data_list = pickle.load(f)"
   ]
  },
  {
   "cell_type": "code",
   "execution_count": 157,
   "metadata": {},
   "outputs": [],
   "source": [
    "with open('Wasserstein_GAN/data.pickle', 'rb') as f:\n",
    "    real_data_list = pickle.load(f)"
   ]
  },
  {
   "cell_type": "code",
   "execution_count": 158,
   "metadata": {},
   "outputs": [],
   "source": [
    "fake = fake_data_list[23][0]\n",
    "real = real_data_list[23][0]"
   ]
  },
  {
   "cell_type": "code",
   "execution_count": 159,
   "metadata": {},
   "outputs": [
    {
     "name": "stderr",
     "output_type": "stream",
     "text": [
      "/home/chikazoe/anaconda3/lib/python3.7/site-packages/ipykernel_launcher.py:2: UserWarning: To copy construct from a tensor, it is recommended to use sourceTensor.clone().detach() or sourceTensor.clone().detach().requires_grad_(True), rather than torch.tensor(sourceTensor).\n",
      "  \n"
     ]
    }
   ],
   "source": [
    "fake=torch.tensor(fake)\n",
    "real = torch.tensor(real)"
   ]
  },
  {
   "cell_type": "code",
   "execution_count": 160,
   "metadata": {},
   "outputs": [
    {
     "data": {
      "text/plain": [
       "torch.Size([330, 261])"
      ]
     },
     "execution_count": 160,
     "metadata": {},
     "output_type": "execute_result"
    }
   ],
   "source": [
    "fake.shape"
   ]
  },
  {
   "cell_type": "code",
   "execution_count": 161,
   "metadata": {},
   "outputs": [],
   "source": [
    "fake_vector = data_to_vector(fake, L_mean_29k, L_std_29k, R_mean_29k, R_std_29k, factor=(2/1.65))"
   ]
  },
  {
   "cell_type": "code",
   "execution_count": 162,
   "metadata": {},
   "outputs": [],
   "source": [
    "real_vector = data_to_vector(real, L_mean_29k, L_std_29k, R_mean_29k, R_std_29k, factor=(2/1.65))"
   ]
  },
  {
   "cell_type": "code",
   "execution_count": 108,
   "metadata": {},
   "outputs": [
    {
     "data": {
      "text/plain": [
       "'\\nfake_vector = []\\nfor i in range(len(fake)):\\n    fake_data = fake[i][0]\\n    fake_data = torch.tensor(fake_data)\\n    fake_vector.append(list(data_to_vector(fake_data, L_mean_29k, L_std_29k, R_mean_29k, R_std_29k, factor=(2/1.65))))\\n'"
      ]
     },
     "execution_count": 108,
     "metadata": {},
     "output_type": "execute_result"
    }
   ],
   "source": [
    "\"\"\"\n",
    "fake_vector = []\n",
    "for i in range(len(fake)):\n",
    "    fake_data = fake[i][0]\n",
    "    fake_data = torch.tensor(fake_data)\n",
    "    fake_vector.append(list(data_to_vector(fake_data, L_mean_29k, L_std_29k, R_mean_29k, R_std_29k, factor=(2/1.65))))\n",
    "\"\"\""
   ]
  },
  {
   "cell_type": "code",
   "execution_count": 163,
   "metadata": {},
   "outputs": [],
   "source": [
    "import pandas as pd"
   ]
  },
  {
   "cell_type": "code",
   "execution_count": 81,
   "metadata": {},
   "outputs": [],
   "source": [
    "df = pd.read_csv('visualization/weights/100206encoder_weight_corr0.2291.csv')"
   ]
  },
  {
   "cell_type": "code",
   "execution_count": 164,
   "metadata": {},
   "outputs": [
    {
     "data": {
      "text/html": [
       "<div>\n",
       "<style scoped>\n",
       "    .dataframe tbody tr th:only-of-type {\n",
       "        vertical-align: middle;\n",
       "    }\n",
       "\n",
       "    .dataframe tbody tr th {\n",
       "        vertical-align: top;\n",
       "    }\n",
       "\n",
       "    .dataframe thead th {\n",
       "        text-align: right;\n",
       "    }\n",
       "</style>\n",
       "<table border=\"1\" class=\"dataframe\">\n",
       "  <thead>\n",
       "    <tr style=\"text-align: right;\">\n",
       "      <th></th>\n",
       "      <th>0</th>\n",
       "      <th>1</th>\n",
       "      <th>2</th>\n",
       "      <th>3</th>\n",
       "      <th>4</th>\n",
       "      <th>5</th>\n",
       "      <th>6</th>\n",
       "      <th>7</th>\n",
       "    </tr>\n",
       "  </thead>\n",
       "  <tbody>\n",
       "    <tr>\n",
       "      <th>0</th>\n",
       "      <td>-0.759428</td>\n",
       "      <td>-1.185240</td>\n",
       "      <td>-0.813755</td>\n",
       "      <td>-0.285380</td>\n",
       "      <td>-0.913292</td>\n",
       "      <td>-0.635820</td>\n",
       "      <td>-0.850608</td>\n",
       "      <td>-1.088829</td>\n",
       "    </tr>\n",
       "    <tr>\n",
       "      <th>1</th>\n",
       "      <td>-0.768449</td>\n",
       "      <td>-0.172972</td>\n",
       "      <td>-0.775843</td>\n",
       "      <td>-0.236510</td>\n",
       "      <td>-0.705354</td>\n",
       "      <td>-0.240639</td>\n",
       "      <td>-0.768416</td>\n",
       "      <td>0.475913</td>\n",
       "    </tr>\n",
       "    <tr>\n",
       "      <th>2</th>\n",
       "      <td>0.478434</td>\n",
       "      <td>-2.745289</td>\n",
       "      <td>0.353571</td>\n",
       "      <td>0.685677</td>\n",
       "      <td>-0.064554</td>\n",
       "      <td>0.344520</td>\n",
       "      <td>0.215787</td>\n",
       "      <td>0.923635</td>\n",
       "    </tr>\n",
       "    <tr>\n",
       "      <th>3</th>\n",
       "      <td>0.068147</td>\n",
       "      <td>-1.052365</td>\n",
       "      <td>-0.007782</td>\n",
       "      <td>-1.433972</td>\n",
       "      <td>-0.159418</td>\n",
       "      <td>-0.200158</td>\n",
       "      <td>-0.042512</td>\n",
       "      <td>-0.884231</td>\n",
       "    </tr>\n",
       "    <tr>\n",
       "      <th>4</th>\n",
       "      <td>-0.801572</td>\n",
       "      <td>0.723356</td>\n",
       "      <td>-0.825801</td>\n",
       "      <td>0.416932</td>\n",
       "      <td>-0.920837</td>\n",
       "      <td>0.415956</td>\n",
       "      <td>-0.872106</td>\n",
       "      <td>0.101925</td>\n",
       "    </tr>\n",
       "  </tbody>\n",
       "</table>\n",
       "</div>"
      ],
      "text/plain": [
       "          0         1         2         3         4         5         6  \\\n",
       "0 -0.759428 -1.185240 -0.813755 -0.285380 -0.913292 -0.635820 -0.850608   \n",
       "1 -0.768449 -0.172972 -0.775843 -0.236510 -0.705354 -0.240639 -0.768416   \n",
       "2  0.478434 -2.745289  0.353571  0.685677 -0.064554  0.344520  0.215787   \n",
       "3  0.068147 -1.052365 -0.007782 -1.433972 -0.159418 -0.200158 -0.042512   \n",
       "4 -0.801572  0.723356 -0.825801  0.416932 -0.920837  0.415956 -0.872106   \n",
       "\n",
       "          7  \n",
       "0 -1.088829  \n",
       "1  0.475913  \n",
       "2  0.923635  \n",
       "3 -0.884231  \n",
       "4  0.101925  "
      ]
     },
     "execution_count": 164,
     "metadata": {},
     "output_type": "execute_result"
    }
   ],
   "source": [
    "df.head()"
   ]
  },
  {
   "cell_type": "code",
   "execution_count": 165,
   "metadata": {},
   "outputs": [
    {
     "data": {
      "text/plain": [
       "Index(['0', '1', '2', '3', '4', '5', '6', '7'], dtype='object')"
      ]
     },
     "execution_count": 165,
     "metadata": {},
     "output_type": "execute_result"
    }
   ],
   "source": [
    "df.columns"
   ]
  },
  {
   "cell_type": "code",
   "execution_count": null,
   "metadata": {},
   "outputs": [],
   "source": []
  },
  {
   "cell_type": "code",
   "execution_count": 83,
   "metadata": {},
   "outputs": [],
   "source": [
    "df = df.drop(['Unnamed: 0','2','3','4','5','6','7'],axis=1)"
   ]
  },
  {
   "cell_type": "code",
   "execution_count": 166,
   "metadata": {},
   "outputs": [
    {
     "data": {
      "text/html": [
       "<div>\n",
       "<style scoped>\n",
       "    .dataframe tbody tr th:only-of-type {\n",
       "        vertical-align: middle;\n",
       "    }\n",
       "\n",
       "    .dataframe tbody tr th {\n",
       "        vertical-align: top;\n",
       "    }\n",
       "\n",
       "    .dataframe thead th {\n",
       "        text-align: right;\n",
       "    }\n",
       "</style>\n",
       "<table border=\"1\" class=\"dataframe\">\n",
       "  <thead>\n",
       "    <tr style=\"text-align: right;\">\n",
       "      <th></th>\n",
       "      <th>0</th>\n",
       "      <th>1</th>\n",
       "      <th>2</th>\n",
       "      <th>3</th>\n",
       "      <th>4</th>\n",
       "      <th>5</th>\n",
       "      <th>6</th>\n",
       "      <th>7</th>\n",
       "    </tr>\n",
       "  </thead>\n",
       "  <tbody>\n",
       "    <tr>\n",
       "      <th>0</th>\n",
       "      <td>-0.759428</td>\n",
       "      <td>-1.185240</td>\n",
       "      <td>-0.813755</td>\n",
       "      <td>-0.285380</td>\n",
       "      <td>-0.913292</td>\n",
       "      <td>-0.635820</td>\n",
       "      <td>-0.850608</td>\n",
       "      <td>-1.088829</td>\n",
       "    </tr>\n",
       "    <tr>\n",
       "      <th>1</th>\n",
       "      <td>-0.768449</td>\n",
       "      <td>-0.172972</td>\n",
       "      <td>-0.775843</td>\n",
       "      <td>-0.236510</td>\n",
       "      <td>-0.705354</td>\n",
       "      <td>-0.240639</td>\n",
       "      <td>-0.768416</td>\n",
       "      <td>0.475913</td>\n",
       "    </tr>\n",
       "    <tr>\n",
       "      <th>2</th>\n",
       "      <td>0.478434</td>\n",
       "      <td>-2.745289</td>\n",
       "      <td>0.353571</td>\n",
       "      <td>0.685677</td>\n",
       "      <td>-0.064554</td>\n",
       "      <td>0.344520</td>\n",
       "      <td>0.215787</td>\n",
       "      <td>0.923635</td>\n",
       "    </tr>\n",
       "    <tr>\n",
       "      <th>3</th>\n",
       "      <td>0.068147</td>\n",
       "      <td>-1.052365</td>\n",
       "      <td>-0.007782</td>\n",
       "      <td>-1.433972</td>\n",
       "      <td>-0.159418</td>\n",
       "      <td>-0.200158</td>\n",
       "      <td>-0.042512</td>\n",
       "      <td>-0.884231</td>\n",
       "    </tr>\n",
       "    <tr>\n",
       "      <th>4</th>\n",
       "      <td>-0.801572</td>\n",
       "      <td>0.723356</td>\n",
       "      <td>-0.825801</td>\n",
       "      <td>0.416932</td>\n",
       "      <td>-0.920837</td>\n",
       "      <td>0.415956</td>\n",
       "      <td>-0.872106</td>\n",
       "      <td>0.101925</td>\n",
       "    </tr>\n",
       "  </tbody>\n",
       "</table>\n",
       "</div>"
      ],
      "text/plain": [
       "          0         1         2         3         4         5         6  \\\n",
       "0 -0.759428 -1.185240 -0.813755 -0.285380 -0.913292 -0.635820 -0.850608   \n",
       "1 -0.768449 -0.172972 -0.775843 -0.236510 -0.705354 -0.240639 -0.768416   \n",
       "2  0.478434 -2.745289  0.353571  0.685677 -0.064554  0.344520  0.215787   \n",
       "3  0.068147 -1.052365 -0.007782 -1.433972 -0.159418 -0.200158 -0.042512   \n",
       "4 -0.801572  0.723356 -0.825801  0.416932 -0.920837  0.415956 -0.872106   \n",
       "\n",
       "          7  \n",
       "0 -1.088829  \n",
       "1  0.475913  \n",
       "2  0.923635  \n",
       "3 -0.884231  \n",
       "4  0.101925  "
      ]
     },
     "execution_count": 166,
     "metadata": {},
     "output_type": "execute_result"
    }
   ],
   "source": [
    "df.head()"
   ]
  },
  {
   "cell_type": "code",
   "execution_count": 167,
   "metadata": {},
   "outputs": [],
   "source": [
    "df['2'] = pd.DataFrame(fake_vector)"
   ]
  },
  {
   "cell_type": "code",
   "execution_count": 168,
   "metadata": {},
   "outputs": [],
   "source": [
    "df['3'] = pd.DataFrame(real_vector)"
   ]
  },
  {
   "cell_type": "code",
   "execution_count": 169,
   "metadata": {},
   "outputs": [
    {
     "data": {
      "text/html": [
       "<div>\n",
       "<style scoped>\n",
       "    .dataframe tbody tr th:only-of-type {\n",
       "        vertical-align: middle;\n",
       "    }\n",
       "\n",
       "    .dataframe tbody tr th {\n",
       "        vertical-align: top;\n",
       "    }\n",
       "\n",
       "    .dataframe thead th {\n",
       "        text-align: right;\n",
       "    }\n",
       "</style>\n",
       "<table border=\"1\" class=\"dataframe\">\n",
       "  <thead>\n",
       "    <tr style=\"text-align: right;\">\n",
       "      <th></th>\n",
       "      <th>0</th>\n",
       "      <th>1</th>\n",
       "      <th>2</th>\n",
       "      <th>3</th>\n",
       "      <th>4</th>\n",
       "      <th>5</th>\n",
       "      <th>6</th>\n",
       "      <th>7</th>\n",
       "    </tr>\n",
       "  </thead>\n",
       "  <tbody>\n",
       "    <tr>\n",
       "      <th>0</th>\n",
       "      <td>-0.759428</td>\n",
       "      <td>-1.185240</td>\n",
       "      <td>-0.902364</td>\n",
       "      <td>-1.063202</td>\n",
       "      <td>-0.913292</td>\n",
       "      <td>-0.635820</td>\n",
       "      <td>-0.850608</td>\n",
       "      <td>-1.088829</td>\n",
       "    </tr>\n",
       "    <tr>\n",
       "      <th>1</th>\n",
       "      <td>-0.768449</td>\n",
       "      <td>-0.172972</td>\n",
       "      <td>-0.645394</td>\n",
       "      <td>0.377891</td>\n",
       "      <td>-0.705354</td>\n",
       "      <td>-0.240639</td>\n",
       "      <td>-0.768416</td>\n",
       "      <td>0.475913</td>\n",
       "    </tr>\n",
       "    <tr>\n",
       "      <th>2</th>\n",
       "      <td>0.478434</td>\n",
       "      <td>-2.745289</td>\n",
       "      <td>-0.172759</td>\n",
       "      <td>-0.752595</td>\n",
       "      <td>-0.064554</td>\n",
       "      <td>0.344520</td>\n",
       "      <td>0.215787</td>\n",
       "      <td>0.923635</td>\n",
       "    </tr>\n",
       "    <tr>\n",
       "      <th>3</th>\n",
       "      <td>0.068147</td>\n",
       "      <td>-1.052365</td>\n",
       "      <td>-0.190476</td>\n",
       "      <td>-1.916845</td>\n",
       "      <td>-0.159418</td>\n",
       "      <td>-0.200158</td>\n",
       "      <td>-0.042512</td>\n",
       "      <td>-0.884231</td>\n",
       "    </tr>\n",
       "    <tr>\n",
       "      <th>4</th>\n",
       "      <td>-0.801572</td>\n",
       "      <td>0.723356</td>\n",
       "      <td>-0.930472</td>\n",
       "      <td>1.602748</td>\n",
       "      <td>-0.920837</td>\n",
       "      <td>0.415956</td>\n",
       "      <td>-0.872106</td>\n",
       "      <td>0.101925</td>\n",
       "    </tr>\n",
       "  </tbody>\n",
       "</table>\n",
       "</div>"
      ],
      "text/plain": [
       "          0         1         2         3         4         5         6  \\\n",
       "0 -0.759428 -1.185240 -0.902364 -1.063202 -0.913292 -0.635820 -0.850608   \n",
       "1 -0.768449 -0.172972 -0.645394  0.377891 -0.705354 -0.240639 -0.768416   \n",
       "2  0.478434 -2.745289 -0.172759 -0.752595 -0.064554  0.344520  0.215787   \n",
       "3  0.068147 -1.052365 -0.190476 -1.916845 -0.159418 -0.200158 -0.042512   \n",
       "4 -0.801572  0.723356 -0.930472  1.602748 -0.920837  0.415956 -0.872106   \n",
       "\n",
       "          7  \n",
       "0 -1.088829  \n",
       "1  0.475913  \n",
       "2  0.923635  \n",
       "3 -0.884231  \n",
       "4  0.101925  "
      ]
     },
     "execution_count": 169,
     "metadata": {},
     "output_type": "execute_result"
    }
   ],
   "source": [
    "df.head()"
   ]
  },
  {
   "cell_type": "code",
   "execution_count": 170,
   "metadata": {},
   "outputs": [],
   "source": [
    "df.to_csv('visualization/weights/100206encoder_weight_corr0.2291.csv')"
   ]
  },
  {
   "cell_type": "code",
   "execution_count": null,
   "metadata": {},
   "outputs": [],
   "source": []
  }
 ],
 "metadata": {
  "kernelspec": {
   "display_name": "Python 3",
   "language": "python",
   "name": "python3"
  },
  "language_info": {
   "codemirror_mode": {
    "name": "ipython",
    "version": 3
   },
   "file_extension": ".py",
   "mimetype": "text/x-python",
   "name": "python",
   "nbconvert_exporter": "python",
   "pygments_lexer": "ipython3",
   "version": "3.7.7"
  }
 },
 "nbformat": 4,
 "nbformat_minor": 4
}
